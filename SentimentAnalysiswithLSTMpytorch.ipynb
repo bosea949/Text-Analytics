{
  "nbformat": 4,
  "nbformat_minor": 0,
  "metadata": {
    "colab": {
      "name": "SentimentAnalysiswithLSTMpytorch.ipynb",
      "provenance": [],
      "collapsed_sections": []
    },
    "kernelspec": {
      "display_name": "Python 3",
      "name": "python3"
    },
    "language_info": {
      "name": "python"
    }
  },
  "cells": [
    {
      "cell_type": "code",
      "metadata": {
        "colab": {
          "base_uri": "https://localhost:8080/"
        },
        "id": "RitotQqyZ79b",
        "outputId": "099423cc-412f-4291-ab57-10291727bdfd"
      },
      "source": [
        "from google.colab import drive\n",
        "drive.mount('/content/drive')"
      ],
      "execution_count": 1,
      "outputs": [
        {
          "output_type": "stream",
          "name": "stdout",
          "text": [
            "Mounted at /content/drive\n"
          ]
        }
      ]
    },
    {
      "cell_type": "code",
      "metadata": {
        "id": "wKM_GEn7anLu"
      },
      "source": [
        "import torch\n",
        "import torch.nn as nn\n",
        "from torch.optim import Adam\n",
        "import torch.nn.functional as F\n",
        "import random\n",
        "import pandas as pd\n",
        "\n",
        "import numpy as np\n",
        "import seaborn as sns\n",
        "from sklearn.model_selection import train_test_split\n",
        "import matplotlib.pyplot as plt\n",
        "from torchtext.legacy.data import Dataset ,Field,LabelField,TabularDataset,BucketIterator"
      ],
      "execution_count": 2,
      "outputs": []
    },
    {
      "cell_type": "code",
      "metadata": {
        "id": "_7iZwAI8bL0j"
      },
      "source": [
        "\n",
        "RANDOM_SEED = 123\n",
        "torch.manual_seed(RANDOM_SEED)\n",
        "\n",
        "VOCABULARY_SIZE = 25000\n",
        "LEARNING_RATE = 0.005\n",
        "BATCH_SIZE = 256\n",
        "NUM_EPOCHS = 10\n",
        "DEVICE = torch.device('cuda' if torch.cuda.is_available() else 'cpu')\n",
        "\n"
      ],
      "execution_count": 37,
      "outputs": []
    },
    {
      "cell_type": "code",
      "metadata": {
        "id": "OS5X-WDe7K0Q"
      },
      "source": [
        "data=pd.read_csv(\"/content/drive/MyDrive/Practice/tweetSentiment.csv\",encoding='utf-8')"
      ],
      "execution_count": 38,
      "outputs": []
    },
    {
      "cell_type": "code",
      "metadata": {
        "colab": {
          "base_uri": "https://localhost:8080/",
          "height": 204
        },
        "id": "I-WvRdtU7Qes",
        "outputId": "43029ab5-4952-4bc1-a7e3-a461ddad537a"
      },
      "source": [
        "data.head()"
      ],
      "execution_count": 41,
      "outputs": [
        {
          "output_type": "execute_result",
          "data": {
            "text/html": [
              "<div>\n",
              "<style scoped>\n",
              "    .dataframe tbody tr th:only-of-type {\n",
              "        vertical-align: middle;\n",
              "    }\n",
              "\n",
              "    .dataframe tbody tr th {\n",
              "        vertical-align: top;\n",
              "    }\n",
              "\n",
              "    .dataframe thead th {\n",
              "        text-align: right;\n",
              "    }\n",
              "</style>\n",
              "<table border=\"1\" class=\"dataframe\">\n",
              "  <thead>\n",
              "    <tr style=\"text-align: right;\">\n",
              "      <th></th>\n",
              "      <th>LABEL_COLUMN_NAME</th>\n",
              "      <th>TEXT_COLUMN_NAME</th>\n",
              "    </tr>\n",
              "  </thead>\n",
              "  <tbody>\n",
              "    <tr>\n",
              "      <th>0</th>\n",
              "      <td>neg</td>\n",
              "      <td>@switchfoot http://twitpic.com/2y1zl - Awww, t...</td>\n",
              "    </tr>\n",
              "    <tr>\n",
              "      <th>1</th>\n",
              "      <td>neg</td>\n",
              "      <td>is upset that he can't update his Facebook by ...</td>\n",
              "    </tr>\n",
              "    <tr>\n",
              "      <th>2</th>\n",
              "      <td>neg</td>\n",
              "      <td>@Kenichan I dived many times for the ball. Man...</td>\n",
              "    </tr>\n",
              "    <tr>\n",
              "      <th>3</th>\n",
              "      <td>neg</td>\n",
              "      <td>my whole body feels itchy and like its on fire</td>\n",
              "    </tr>\n",
              "    <tr>\n",
              "      <th>4</th>\n",
              "      <td>neg</td>\n",
              "      <td>@nationwideclass no, it's not behaving at all....</td>\n",
              "    </tr>\n",
              "  </tbody>\n",
              "</table>\n",
              "</div>"
            ],
            "text/plain": [
              "  LABEL_COLUMN_NAME                                   TEXT_COLUMN_NAME\n",
              "0               neg  @switchfoot http://twitpic.com/2y1zl - Awww, t...\n",
              "1               neg  is upset that he can't update his Facebook by ...\n",
              "2               neg  @Kenichan I dived many times for the ball. Man...\n",
              "3               neg    my whole body feels itchy and like its on fire \n",
              "4               neg  @nationwideclass no, it's not behaving at all...."
            ]
          },
          "metadata": {},
          "execution_count": 41
        }
      ]
    },
    {
      "cell_type": "code",
      "metadata": {
        "colab": {
          "base_uri": "https://localhost:8080/",
          "height": 333
        },
        "id": "R9ewvlH4c-HE",
        "outputId": "38e21475-c104-4208-8889-38f1c8aee8fd"
      },
      "source": [
        "ax=sns.countplot(data['LABEL_COLUMN_NAME'])\n",
        "plt.xlabel('sentiments')\n",
        "ax.set_xticklabels(list(set(data['LABEL_COLUMN_NAME'].values)));"
      ],
      "execution_count": 6,
      "outputs": [
        {
          "output_type": "stream",
          "name": "stderr",
          "text": [
            "/usr/local/lib/python3.7/dist-packages/seaborn/_decorators.py:43: FutureWarning: Pass the following variable as a keyword arg: x. From version 0.12, the only valid positional argument will be `data`, and passing other arguments without an explicit keyword will result in an error or misinterpretation.\n",
            "  FutureWarning\n"
          ]
        },
        {
          "output_type": "display_data",
          "data": {
            "image/png": "[encoded data removed]",
            "text/plain": [
              "<Figure size 432x288 with 1 Axes>"
            ]
          },
          "metadata": {
            "needs_background": "light"
          }
        }
      ]
    },
    {
      "cell_type": "code",
      "metadata": {
        "colab": {
          "base_uri": "https://localhost:8080/"
        },
        "id": "Uqyz3GKDdDdv",
        "outputId": "8a2a16fc-0b8e-418c-94a6-484f8a91525f"
      },
      "source": [
        "!pip install spacy"
      ],
      "execution_count": 7,
      "outputs": [
        {
          "output_type": "stream",
          "name": "stdout",
          "text": [
            "Requirement already satisfied: spacy in /usr/local/lib/python3.7/dist-packages (2.2.4)\n",
            "Requirement already satisfied: srsly<1.1.0,>=1.0.2 in /usr/local/lib/python3.7/dist-packages (from spacy) (1.0.5)\n",
            "Requirement already satisfied: murmurhash<1.1.0,>=0.28.0 in /usr/local/lib/python3.7/dist-packages (from spacy) (1.0.6)\n",
            "Requirement already satisfied: numpy>=1.15.0 in /usr/local/lib/python3.7/dist-packages (from spacy) (1.19.5)\n",
            "Requirement already satisfied: requests<3.0.0,>=2.13.0 in /usr/local/lib/python3.7/dist-packages (from spacy) (2.23.0)\n",
            "Requirement already satisfied: plac<1.2.0,>=0.9.6 in /usr/local/lib/python3.7/dist-packages (from spacy) (1.1.3)\n",
            "Requirement already satisfied: thinc==7.4.0 in /usr/local/lib/python3.7/dist-packages (from spacy) (7.4.0)\n",
            "Requirement already satisfied: wasabi<1.1.0,>=0.4.0 in /usr/local/lib/python3.7/dist-packages (from spacy) (0.8.2)\n",
            "Requirement already satisfied: preshed<3.1.0,>=3.0.2 in /usr/local/lib/python3.7/dist-packages (from spacy) (3.0.6)\n",
            "Requirement already satisfied: tqdm<5.0.0,>=4.38.0 in /usr/local/lib/python3.7/dist-packages (from spacy) (4.62.3)\n",
            "Requirement already satisfied: cymem<2.1.0,>=2.0.2 in /usr/local/lib/python3.7/dist-packages (from spacy) (2.0.6)\n",
            "Requirement already satisfied: setuptools in /usr/local/lib/python3.7/dist-packages (from spacy) (57.4.0)\n",
            "Requirement already satisfied: blis<0.5.0,>=0.4.0 in /usr/local/lib/python3.7/dist-packages (from spacy) (0.4.1)\n",
            "Requirement already satisfied: catalogue<1.1.0,>=0.0.7 in /usr/local/lib/python3.7/dist-packages (from spacy) (1.0.0)\n",
            "Requirement already satisfied: importlib-metadata>=0.20 in /usr/local/lib/python3.7/dist-packages (from catalogue<1.1.0,>=0.0.7->spacy) (4.8.2)\n",
            "Requirement already satisfied: typing-extensions>=3.6.4 in /usr/local/lib/python3.7/dist-packages (from importlib-metadata>=0.20->catalogue<1.1.0,>=0.0.7->spacy) (3.10.0.2)\n",
            "Requirement already satisfied: zipp>=0.5 in /usr/local/lib/python3.7/dist-packages (from importlib-metadata>=0.20->catalogue<1.1.0,>=0.0.7->spacy) (3.6.0)\n",
            "Requirement already satisfied: chardet<4,>=3.0.2 in /usr/local/lib/python3.7/dist-packages (from requests<3.0.0,>=2.13.0->spacy) (3.0.4)\n",
            "Requirement already satisfied: certifi>=2017.4.17 in /usr/local/lib/python3.7/dist-packages (from requests<3.0.0,>=2.13.0->spacy) (2021.10.8)\n",
            "Requirement already satisfied: urllib3!=1.25.0,!=1.25.1,<1.26,>=1.21.1 in /usr/local/lib/python3.7/dist-packages (from requests<3.0.0,>=2.13.0->spacy) (1.24.3)\n",
            "Requirement already satisfied: idna<3,>=2.5 in /usr/local/lib/python3.7/dist-packages (from requests<3.0.0,>=2.13.0->spacy) (2.10)\n"
          ]
        }
      ]
    },
    {
      "cell_type": "code",
      "metadata": {
        "id": "oeiIGUTm9q07"
      },
      "source": [
        "TEXT= Field(tokenize='spacy',tokenizer_language='en_core_web_sm')\n",
        "\n",
        "LABEL=LabelField(dtype=torch.long)\n"
      ],
      "execution_count": 8,
      "outputs": []
    },
    {
      "cell_type": "code",
      "metadata": {
        "id": "vtR98ffZ-DUE"
      },
      "source": [
        "fields=[('LABEL_COLUMN_NAME',LABEL),('TEXT_COLUMN_NAME',TEXT)]\n",
        "\n",
        "dataset=TabularDataset(path='/content/drive/MyDrive/Practice/tweetSentiment.csv',format='csv',skip_header=True,fields=fields)"
      ],
      "execution_count": 9,
      "outputs": []
    },
    {
      "cell_type": "code",
      "metadata": {
        "colab": {
          "base_uri": "https://localhost:8080/"
        },
        "id": "mM6BTYyI-tqv",
        "outputId": "bb53737f-367e-484d-a517-8c9f5de2dc08"
      },
      "source": [
        "print(vars(dataset.examples[0]))"
      ],
      "execution_count": 10,
      "outputs": [
        {
          "output_type": "stream",
          "name": "stdout",
          "text": [
            "{'LABEL_COLUMN_NAME': 'neg', 'TEXT_COLUMN_NAME': ['@switchfoot', 'http://twitpic.com/2y1zl', '-', 'Awww', ',', 'that', \"'s\", 'a', 'bummer', '.', ' ', 'You', 'shoulda', 'got', 'David', 'Carr', 'of', 'Third', 'Day', 'to', 'do', 'it', '.', ';D']}\n"
          ]
        }
      ]
    },
    {
      "cell_type": "code",
      "metadata": {
        "id": "NXku-1ZM-900"
      },
      "source": [
        "train_data, test_data = dataset.split(\n",
        "    split_ratio=[0.8, 0.2],\n",
        "    random_state=random.seed(RANDOM_SEED))\n",
        "\n"
      ],
      "execution_count": 11,
      "outputs": []
    },
    {
      "cell_type": "code",
      "metadata": {
        "id": "97YpT-5y_Y4l"
      },
      "source": [
        "train_data,val_data=train_data.split(\n",
        "                      split_ratio=[0.8,0.2],\n",
        "                      random_state=random.seed(RANDOM_SEED))\n"
      ],
      "execution_count": 12,
      "outputs": []
    },
    {
      "cell_type": "code",
      "metadata": {
        "colab": {
          "base_uri": "https://localhost:8080/"
        },
        "id": "e9IKl3xA_eF_",
        "outputId": "7d8fe90b-d2c9-4a2e-8185-4ba46f1a341c"
      },
      "source": [
        "print('Number of training examples: ',len(train_data))\n",
        "print('Number of validation examples: ',len(val_data))\n",
        "print('Number of testing examples: ',len(test_data))"
      ],
      "execution_count": 13,
      "outputs": [
        {
          "output_type": "stream",
          "name": "stdout",
          "text": [
            "Number of training examples:  1024000\n",
            "Number of validation examples:  256000\n",
            "Number of testing examples:  320000\n"
          ]
        }
      ]
    },
    {
      "cell_type": "code",
      "metadata": {
        "id": "9KDaV-HWKLhf",
        "colab": {
          "base_uri": "https://localhost:8080/"
        },
        "outputId": "cf1081b3-d61f-434c-a7f9-c058c9881ada"
      },
      "source": [
        "TEXT.build_vocab(train_data,max_size=25_000,vectors='glove.6B.100d')\n",
        "\n",
        "LABEL.build_vocab(train_data,vectors='glove.6B.100d')"
      ],
      "execution_count": 14,
      "outputs": [
        {
          "output_type": "stream",
          "name": "stderr",
          "text": [
            ".vector_cache/glove.6B.zip: 862MB [02:43, 5.27MB/s]                           \n",
            "100%|█████████▉| 399999/400000 [00:18<00:00, 21777.18it/s]\n"
          ]
        }
      ]
    },
    {
      "cell_type": "code",
      "metadata": {
        "id": "q2KpAFa12mw3",
        "colab": {
          "base_uri": "https://localhost:8080/"
        },
        "outputId": "e0b8cde8-6f78-4d77-ddf5-d1fe285e6b4c"
      },
      "source": [
        "print(f'Vocabulary size: {len(TEXT.vocab)}')\n",
        "print(f'Number of classes: {len(LABEL.vocab)}')"
      ],
      "execution_count": 15,
      "outputs": [
        {
          "output_type": "stream",
          "name": "stdout",
          "text": [
            "Vocabulary size: 25002\n",
            "Number of classes: 2\n"
          ]
        }
      ]
    },
    {
      "cell_type": "code",
      "metadata": {
        "id": "mhNY1Zys2_7e",
        "colab": {
          "base_uri": "https://localhost:8080/"
        },
        "outputId": "c0746143-77ab-425f-f928-49f29f371909"
      },
      "source": [
        "print(TEXT.vocab.freqs.most_common(20))\n"
      ],
      "execution_count": 16,
      "outputs": [
        {
          "output_type": "stream",
          "name": "stdout",
          "text": [
            "[('!', 579101), ('.', 518222), ('I', 421472), (' ', 375997), ('to', 357621), ('the', 313915), (',', 309306), ('a', 236647), ('i', 216364), ('my', 180879), ('and', 180577), ('you', 172037), ('it', 166896), ('?', 152471), ('is', 148838), ('...', 140437), ('for', 135808), ('in', 133466), ('of', 115362), (\"'s\", 114492)]\n"
          ]
        }
      ]
    },
    {
      "cell_type": "code",
      "metadata": {
        "id": "tcUZ1GH83WHJ",
        "colab": {
          "base_uri": "https://localhost:8080/"
        },
        "outputId": "c33821cf-9583-4d18-b09e-785c40081703"
      },
      "source": [
        "print(TEXT.vocab.itos[:10])"
      ],
      "execution_count": 17,
      "outputs": [
        {
          "output_type": "stream",
          "name": "stdout",
          "text": [
            "['<unk>', '<pad>', '!', '.', 'I', ' ', 'to', 'the', ',', 'a']\n"
          ]
        }
      ]
    },
    {
      "cell_type": "code",
      "metadata": {
        "id": "z4uyYQcR3fh7",
        "colab": {
          "base_uri": "https://localhost:8080/"
        },
        "outputId": "7283bf75-622a-4d8d-e012-47d1e66505b8"
      },
      "source": [
        "print(TEXT.vocab.stoi['the'])"
      ],
      "execution_count": 18,
      "outputs": [
        {
          "output_type": "stream",
          "name": "stdout",
          "text": [
            "7\n"
          ]
        }
      ]
    },
    {
      "cell_type": "code",
      "metadata": {
        "id": "EkeiPPvU3m55",
        "colab": {
          "base_uri": "https://localhost:8080/"
        },
        "outputId": "679da0df-1b76-4720-b294-397b7d9573de"
      },
      "source": [
        "print(LABEL.vocab.stoi)"
      ],
      "execution_count": 19,
      "outputs": [
        {
          "output_type": "stream",
          "name": "stdout",
          "text": [
            "defaultdict(None, {'neg': 0, 'pos': 1})\n"
          ]
        }
      ]
    },
    {
      "cell_type": "code",
      "metadata": {
        "colab": {
          "base_uri": "https://localhost:8080/"
        },
        "id": "yVXsZM9w3tvK",
        "outputId": "f35bb733-59a7-4b19-a6af-aff76050cf01"
      },
      "source": [
        "print(LABEL.vocab.freqs)"
      ],
      "execution_count": 20,
      "outputs": [
        {
          "output_type": "stream",
          "name": "stdout",
          "text": [
            "Counter({'neg': 512125, 'pos': 511875})\n"
          ]
        }
      ]
    },
    {
      "cell_type": "code",
      "metadata": {
        "id": "GJe4F8oT30un"
      },
      "source": [
        "train_dataloader,val_dataloader,test_dataloader=BucketIterator.splits(\n",
        "                                      (train_data,val_data,test_data),\n",
        "                                      batch_size=BATCH_SIZE,\n",
        "                                      sort_within_batch=False,\n",
        "                                      sort_key=lambda x: len(x.TEXT_COLUMN_NAME),\n",
        "                                      device=DEVICE\n",
        "                                     )"
      ],
      "execution_count": 21,
      "outputs": []
    },
    {
      "cell_type": "code",
      "metadata": {
        "colab": {
          "base_uri": "https://localhost:8080/"
        },
        "id": "wo6eslsb46Xq",
        "outputId": "2e5d58ca-60c4-4959-b882-8bf7cee1a4ca"
      },
      "source": [
        "print('Train')\n",
        "for batch in train_dataloader:\n",
        "    print(f'Text matrix size: {batch.TEXT_COLUMN_NAME.size()}')\n",
        "    print(f'Target vector size: {batch.LABEL_COLUMN_NAME.size()}')\n",
        "    break\n",
        "    \n",
        "print('\\nValid:')\n",
        "for batch in val_dataloader:\n",
        "    print(f'Text matrix size: {batch.TEXT_COLUMN_NAME.size()}')\n",
        "    print(f'Target vector size: {batch.LABEL_COLUMN_NAME.size()}')\n",
        "    break\n",
        "    \n",
        "print('\\nTest:')\n",
        "for batch in test_dataloader:\n",
        "    print(f'Text matrix size: {batch.TEXT_COLUMN_NAME.size()}')\n",
        "    print(f'Target vector size: {batch.LABEL_COLUMN_NAME.size()}')\n",
        "    break"
      ],
      "execution_count": 22,
      "outputs": [
        {
          "output_type": "stream",
          "name": "stdout",
          "text": [
            "Train\n",
            "Text matrix size: torch.Size([37, 256])\n",
            "Target vector size: torch.Size([256])\n",
            "\n",
            "Valid:\n",
            "Text matrix size: torch.Size([1, 256])\n",
            "Target vector size: torch.Size([256])\n",
            "\n",
            "Test:\n",
            "Text matrix size: torch.Size([1, 256])\n",
            "Target vector size: torch.Size([256])\n"
          ]
        }
      ]
    },
    {
      "cell_type": "code",
      "metadata": {
        "id": "Zf-X6RP-TDgE"
      },
      "source": [
        "\n",
        "class LSTMSentiment(nn.Module):\n",
        "  def __init__(self,input_dim,embed_dim,hidden_dim,output_dim,is_bidirectional,n_layers,dropout):\n",
        "    super().__init__()\n",
        "    self.input_dim=input_dim\n",
        "    self.embed=embed_dim\n",
        "    self.hidden_dim=hidden_dim\n",
        "    self.output_dim=output_dim\n",
        "    self.embedding=nn.Embedding(self.input_dim,self.embed)\n",
        "    self.RNN=nn.LSTM(self.embed,self.hidden_dim,num_layers=n_layers,bidirectional = is_bidirectional,dropout = 0 if n_layers < 2 else dropout)\n",
        "    self.fc_out=nn.Linear(self.hidden_dim * 2 if self.RNN.bidirectional else self.hidden_dim,self.output_dim)\n",
        "    self.dropout=nn.Dropout(dropout)\n",
        "\n",
        "  def forward(self,text):\n",
        "    embedded=self.embedding(text)\n",
        "    output,(hidden,cell)=self.RNN(embedded)\n",
        "\n",
        "    return self.fc_out(self.dropout(output[-1,:,:]))"
      ],
      "execution_count": 23,
      "outputs": []
    },
    {
      "cell_type": "markdown",
      "metadata": {
        "id": "Ca0zUWKTBw1V"
      },
      "source": [
        "### Figuring out the embedding dimension"
      ]
    },
    {
      "cell_type": "code",
      "metadata": {
        "id": "MsH472ZWrR3X"
      },
      "source": [
        "import spacy\n",
        "sp = spacy.load('en_core_web_sm')\n",
        "token_len=[]\n",
        "for text in data.TEXT_COLUMN_NAME:\n",
        "  TOKENS=sp(text)\n",
        "  token_list=[]\n",
        "  for token in TOKENS:\n",
        "    token_list.append(token.text)\n",
        "  token_len.append(len(token_list))"
      ],
      "execution_count": null,
      "outputs": []
    },
    {
      "cell_type": "code",
      "metadata": {
        "colab": {
          "base_uri": "https://localhost:8080/",
          "height": 333
        },
        "id": "pVSqTvPE-wwT",
        "outputId": "88027981-0d6f-4c1f-a41f-b9cb9be9d424"
      },
      "source": [
        "sns.distplot(token_len)\n",
        "plt.xlim([0, 256]);\n",
        "plt.xlabel('Tokenized Length');"
      ],
      "execution_count": null,
      "outputs": [
        {
          "name": "stderr",
          "output_type": "stream",
          "text": [
            "/usr/local/lib/python3.7/dist-packages/seaborn/distributions.py:2619: FutureWarning: `distplot` is a deprecated function and will be removed in a future version. Please adapt your code to use either `displot` (a figure-level function with similar flexibility) or `histplot` (an axes-level function for histograms).\n",
            "  warnings.warn(msg, FutureWarning)\n"
          ]
        },
        {
          "data": {
            "image/png": "[encoded data removed]",
            "text/plain": [
              "<Figure size 432x288 with 1 Axes>"
            ]
          },
          "metadata": {},
          "output_type": "display_data"
        }
      ]
    },
    {
      "cell_type": "code",
      "metadata": {
        "id": "mqvvYCyc7UNG"
      },
      "source": [
        "EMBEDDING_DIM = 80\n",
        "HIDDEN_DIM = 256\n",
        "NUM_CLASSES = len(LABEL.vocab.stoi)\n",
        "N_layers=1\n",
        "\n",
        "bidirectional=False\n",
        "DROPOUT=0.25"
      ],
      "execution_count": 24,
      "outputs": []
    },
    {
      "cell_type": "code",
      "metadata": {
        "id": "eNzhxlU1TUlv"
      },
      "source": [
        "model=LSTMSentiment(input_dim=len(TEXT.vocab),\n",
        "                    embed_dim=EMBEDDING_DIM,\n",
        "                    is_bidirectional=bidirectional,\n",
        "                    n_layers=N_layers,\n",
        "                    hidden_dim=HIDDEN_DIM,\n",
        "                    output_dim=NUM_CLASSES,\n",
        "                    dropout=DROPOUT)\n",
        "model=model.to(DEVICE)"
      ],
      "execution_count": 25,
      "outputs": []
    },
    {
      "cell_type": "code",
      "metadata": {
        "colab": {
          "base_uri": "https://localhost:8080/"
        },
        "id": "DnLraw0TRqQF",
        "outputId": "31f3a73b-3a09-4c94-9704-0222d29b19b2"
      },
      "source": [
        "len(TEXT.vocab)"
      ],
      "execution_count": 26,
      "outputs": [
        {
          "output_type": "execute_result",
          "data": {
            "text/plain": [
              "25002"
            ]
          },
          "metadata": {},
          "execution_count": 26
        }
      ]
    },
    {
      "cell_type": "code",
      "metadata": {
        "id": "RHMTAvTY7jos"
      },
      "source": [
        "optimizer=Adam(model.parameters(),lr=0.005)"
      ],
      "execution_count": 27,
      "outputs": []
    },
    {
      "cell_type": "code",
      "metadata": {
        "id": "hry-u7Zs84B6"
      },
      "source": [
        "\n",
        "def accuracy(predicted,target):\n",
        "  predicted=torch.max(predicted, 1)[1]\n",
        "  correct = (predicted==target).float()\n",
        "  acc=correct.sum()/len(correct)\n",
        "  return acc"
      ],
      "execution_count": 28,
      "outputs": []
    },
    {
      "cell_type": "code",
      "metadata": {
        "id": "EmRniDKO8Lkz"
      },
      "source": [
        "def train(model,dataloader,optimizer,DEVICE):\n",
        "\n",
        "  epoch_loss=0\n",
        "  epoch_acc=0\n",
        "  model.train()\n",
        "  for batch_idx, batch in enumerate(dataloader):\n",
        "\n",
        "    texts=batch.TEXT_COLUMN_NAME.to(DEVICE)\n",
        "    labels=batch.LABEL_COLUMN_NAME.to(DEVICE)\n",
        "    \n",
        "    optimizer.zero_grad()\n",
        "\n",
        "    predictions=model(texts)\n",
        "    # print(predictions.shape)\n",
        "    # print(labels.shape)\n",
        "    loss=F.cross_entropy(predictions,labels)\n",
        "    acc=accuracy(predictions,labels)\n",
        "\n",
        "    epoch_loss=loss.item()\n",
        "    epoch_acc+=acc.item()\n",
        "    loss.backward()\n",
        "    optimizer.step()\n",
        "  \n",
        "\n",
        "\n",
        "  return epoch_loss/len(dataloader),epoch_acc/len(dataloader)\n",
        "    "
      ],
      "execution_count": 29,
      "outputs": []
    },
    {
      "cell_type": "code",
      "metadata": {
        "id": "uG3i8ZjW-lq9"
      },
      "source": [
        "def evaluate(model,dataloader,DEVICE):\n",
        "\n",
        "  epoch_loss=0\n",
        "  epoch_acc=0\n",
        "  model.eval()\n",
        "  with torch.no_grad():\n",
        "    for batch_idx,batch in enumerate(dataloader):\n",
        "      \n",
        "      texts=batch.TEXT_COLUMN_NAME.to(DEVICE)\n",
        "      labels=batch.LABEL_COLUMN_NAME.to(DEVICE)\n",
        "      \n",
        "      predictions=model(texts)\n",
        "      loss=F.cross_entropy(predictions,labels)\n",
        "      acc=accuracy(predictions,labels)\n",
        "\n",
        "      epoch_loss+=loss.item()\n",
        "      epoch_acc+=acc.item()\n",
        "\n",
        "  return epoch_loss/len(dataloader),epoch_acc/len(dataloader)"
      ],
      "execution_count": 30,
      "outputs": []
    },
    {
      "cell_type": "code",
      "metadata": {
        "id": "GTl35OzF_6Kc"
      },
      "source": [
        "import time\n",
        "def epoch_time(start_time, end_time):\n",
        "    elapsed_time = end_time - start_time\n",
        "    elapsed_mins = int(elapsed_time / 60)\n",
        "    elapsed_secs = int(elapsed_time - (elapsed_mins * 60))\n",
        "    return elapsed_mins, elapsed_secs"
      ],
      "execution_count": 31,
      "outputs": []
    },
    {
      "cell_type": "code",
      "metadata": {
        "id": "-7ekLAUUeJMr"
      },
      "source": [
        "#torch.cuda.empty_cache()"
      ],
      "execution_count": null,
      "outputs": []
    },
    {
      "cell_type": "markdown",
      "metadata": {
        "id": "s0J38wriFF-v"
      },
      "source": [
        "### LSTM"
      ]
    },
    {
      "cell_type": "code",
      "metadata": {
        "colab": {
          "base_uri": "https://localhost:8080/"
        },
        "id": "zdwPGyz_AFaQ",
        "outputId": "4dbe4fea-de5d-4773-9d74-5655a4510aef"
      },
      "source": [
        "N_EPOCHS = 4\n",
        "\n",
        "best_valid_loss = float('inf')\n",
        "\n",
        "for epoch in range(N_EPOCHS):\n",
        "\n",
        "    start_time = time.time()\n",
        "    \n",
        "    train_loss, train_acc = train(model, train_dataloader, optimizer,DEVICE)\n",
        "    valid_loss, valid_acc = evaluate(model,val_dataloader,DEVICE)\n",
        "    \n",
        "    end_time = time.time()\n",
        "\n",
        "    epoch_mins, epoch_secs = epoch_time(start_time, end_time)\n",
        "    \n",
        "    if valid_loss < best_valid_loss:\n",
        "        best_valid_loss = valid_loss\n",
        "        torch.save(model.state_dict(), 'tut1-model.pt')\n",
        "    \n",
        "    print(f'Epoch: {epoch+1:02} | Epoch Time: {epoch_mins}m {epoch_secs}s')\n",
        "    print(f'\\tTrain Loss: {train_loss:.3f} | Train Acc: {train_acc*100:.2f}%')\n",
        "    print(f'\\t Val. Loss: {valid_loss:.3f} |  Val. Acc: {valid_acc*100:.2f}%')"
      ],
      "execution_count": null,
      "outputs": [
        {
          "name": "stdout",
          "output_type": "stream",
          "text": [
            "Epoch: 01 | Epoch Time: 39m 10s\n",
            "\tTrain Loss: 0.000 | Train Acc: 81.45%\n",
            "\t Val. Loss: 0.417 |  Val. Acc: 81.46%\n",
            "Epoch: 02 | Epoch Time: 39m 57s\n",
            "\tTrain Loss: 0.000 | Train Acc: 84.63%\n",
            "\t Val. Loss: 0.403 |  Val. Acc: 82.48%\n",
            "Epoch: 03 | Epoch Time: 40m 14s\n",
            "\tTrain Loss: 0.000 | Train Acc: 85.55%\n",
            "\t Val. Loss: 0.442 |  Val. Acc: 80.64%\n",
            "Epoch: 04 | Epoch Time: 39m 39s\n",
            "\tTrain Loss: 0.000 | Train Acc: 86.10%\n",
            "\t Val. Loss: 0.422 |  Val. Acc: 81.72%\n"
          ]
        }
      ]
    },
    {
      "cell_type": "code",
      "metadata": {
        "colab": {
          "base_uri": "https://localhost:8080/"
        },
        "id": "mKgS7eloKOgr",
        "outputId": "dea15a0a-f556-4018-e93f-0b07f808dfd8"
      },
      "source": [
        "model.load_state_dict(torch.load('tut1-model.pt'))\n",
        "\n",
        "test_loss, test_acc = evaluate(model, test_dataloader, DEVICE)\n",
        "\n",
        "print(f'Test Loss: {test_loss:.3f} | Test Acc: {test_acc*100:.2f}%')"
      ],
      "execution_count": null,
      "outputs": [
        {
          "name": "stdout",
          "output_type": "stream",
          "text": [
            "Test Loss: 0.401 | Test Acc: 82.59%\n"
          ]
        }
      ]
    },
    {
      "cell_type": "markdown",
      "metadata": {
        "id": "u5kIKc5iFBy4"
      },
      "source": [
        "### Bidirectional LSTM"
      ]
    },
    {
      "cell_type": "code",
      "metadata": {
        "id": "bedlBSlsYq8k"
      },
      "source": [
        "EMBEDDING_DIM = 80\n",
        "HIDDEN_DIM = 256\n",
        "NUM_CLASSES = len(LABEL.vocab.stoi)\n",
        "N_layers=1\n",
        "\n",
        "bidirectional=True\n",
        "DROPOUT=0.25"
      ],
      "execution_count": 32,
      "outputs": []
    },
    {
      "cell_type": "code",
      "metadata": {
        "id": "pJIEbuabYqat"
      },
      "source": [
        "model=LSTMSentiment(input_dim=len(TEXT.vocab),\n",
        "                    embed_dim=EMBEDDING_DIM,\n",
        "                    is_bidirectional=bidirectional,\n",
        "                    n_layers=N_layers,\n",
        "                    hidden_dim=HIDDEN_DIM,\n",
        "                    output_dim=NUM_CLASSES,\n",
        "                    dropout=DROPOUT)\n",
        "model=model.to(DEVICE)"
      ],
      "execution_count": 33,
      "outputs": []
    },
    {
      "cell_type": "code",
      "metadata": {
        "id": "zMxH26F-57xe"
      },
      "source": [
        "optimizer=Adam(model.parameters(),lr=0.005)"
      ],
      "execution_count": 34,
      "outputs": []
    },
    {
      "cell_type": "code",
      "metadata": {
        "colab": {
          "base_uri": "https://localhost:8080/"
        },
        "id": "CIOvj_mICZAU",
        "outputId": "b7f93d9f-f52f-4be8-b91b-3f8ce08c5f49"
      },
      "source": [
        "N_EPOCHS = 4\n",
        "\n",
        "best_valid_loss = float('inf')\n",
        "\n",
        "for epoch in range(N_EPOCHS):\n",
        "\n",
        "    start_time = time.time()\n",
        "    \n",
        "    train_loss, train_acc = train(model, train_dataloader, optimizer,DEVICE)\n",
        "  \n",
        "\n",
        "    valid_loss, valid_acc = evaluate(model,val_dataloader,DEVICE)\n",
        "    \n",
        "    end_time = time.time()\n",
        "\n",
        "    epoch_mins, epoch_secs = epoch_time(start_time, end_time)\n",
        "    \n",
        "    if valid_loss < best_valid_loss:\n",
        "        best_valid_loss = valid_loss\n",
        "        torch.save(model.state_dict(), 'tut1-model.pt')\n",
        "    \n",
        "    print(f'Epoch: {epoch+1:02} | Epoch Time: {epoch_mins}m {epoch_secs}s')\n",
        "    print(f'\\tTrain Loss: {train_loss:.3f} | Train Acc: {train_acc*100:.2f}%')\n",
        "    print(f'\\t Val. Loss: {valid_loss:.3f} |  Val. Acc: {valid_acc*100:.2f}%')"
      ],
      "execution_count": 35,
      "outputs": [
        {
          "output_type": "stream",
          "name": "stdout",
          "text": [
            "Epoch: 01 | Epoch Time: 82m 23s\n",
            "\tTrain Loss: 0.000 | Train Acc: 80.16%\n",
            "\t Val. Loss: 0.476 |  Val. Acc: 78.71%\n",
            "Epoch: 02 | Epoch Time: 77m 27s\n",
            "\tTrain Loss: 0.000 | Train Acc: 84.75%\n",
            "\t Val. Loss: 0.472 |  Val. Acc: 80.32%\n",
            "Epoch: 03 | Epoch Time: 78m 25s\n",
            "\tTrain Loss: 0.000 | Train Acc: 85.67%\n",
            "\t Val. Loss: 0.480 |  Val. Acc: 79.42%\n",
            "Epoch: 04 | Epoch Time: 76m 24s\n",
            "\tTrain Loss: 0.000 | Train Acc: 86.16%\n",
            "\t Val. Loss: 0.559 |  Val. Acc: 77.86%\n"
          ]
        }
      ]
    },
    {
      "cell_type": "code",
      "metadata": {
        "id": "hGoynVr3-dvQ",
        "colab": {
          "base_uri": "https://localhost:8080/"
        },
        "outputId": "44e5daaf-346a-492c-f85d-74ade74159c9"
      },
      "source": [
        "model.load_state_dict(torch.load('tut1-model.pt'))\n",
        "\n",
        "test_loss, test_acc = evaluate(model, test_dataloader, DEVICE)\n",
        "\n",
        "print(f'Test Loss: {test_loss:.3f} | Test Acc: {test_acc*100:.2f}%')"
      ],
      "execution_count": 36,
      "outputs": [
        {
          "output_type": "stream",
          "name": "stdout",
          "text": [
            "Test Loss: 0.473 | Test Acc: 80.37%\n"
          ]
        }
      ]
    },
    {
      "cell_type": "code",
      "metadata": {
        "id": "6814uXOgpcia"
      },
      "source": [
        ""
      ],
      "execution_count": null,
      "outputs": []
    }
  ]
}